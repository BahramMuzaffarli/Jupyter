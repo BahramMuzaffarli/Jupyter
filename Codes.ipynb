{
 "cells": [
  {
   "cell_type": "markdown",
   "id": "215a11ff",
   "metadata": {},
   "source": [
    "# Ədədin Tam Hissesini Tapmaq (IF/Else)"
   ]
  },
  {
   "cell_type": "code",
   "execution_count": 2,
   "id": "2c09bc9a",
   "metadata": {},
   "outputs": [
    {
     "name": "stdout",
     "output_type": "stream",
     "text": [
      "Write real number\n"
     ]
    },
    {
     "ename": "ValueError",
     "evalue": "could not convert string to float: ''",
     "output_type": "error",
     "traceback": [
      "\u001b[1;31m---------------------------------------------------------------------------\u001b[0m",
      "\u001b[1;31mValueError\u001b[0m                                Traceback (most recent call last)",
      "Input \u001b[1;32mIn [2]\u001b[0m, in \u001b[0;36m<cell line: 1>\u001b[1;34m()\u001b[0m\n\u001b[1;32m----> 1\u001b[0m x \u001b[38;5;241m=\u001b[39m \u001b[38;5;28;43mfloat\u001b[39;49m\u001b[43m(\u001b[49m\u001b[38;5;28;43minput\u001b[39;49m\u001b[43m(\u001b[49m\u001b[38;5;124;43m'\u001b[39;49m\u001b[38;5;124;43mWrite real number\u001b[39;49m\u001b[38;5;124;43m'\u001b[39;49m\u001b[43m)\u001b[49m\u001b[43m)\u001b[49m\n\u001b[0;32m      2\u001b[0m y\u001b[38;5;241m=\u001b[39m \u001b[38;5;28mround\u001b[39m(x)\n\u001b[0;32m      3\u001b[0m \u001b[38;5;28;01mif\u001b[39;00m x\u001b[38;5;241m>\u001b[39m\u001b[38;5;241m0\u001b[39m:\n",
      "\u001b[1;31mValueError\u001b[0m: could not convert string to float: ''"
     ]
    }
   ],
   "source": [
    "x = float(input('Write real number'))\n",
    "y= round(x)\n",
    "if x>0:\n",
    "    if y>x:\n",
    "        Tam_Hisse = y-1\n",
    "    else:\n",
    "        Tam_Hisse = y\n",
    "else:\n",
    "    if y<x:\n",
    "        Tam_Hisse = y+1\n",
    "    else:\n",
    "        Tam_Hisse = y\n",
    "print('Ədədin Tam Hissəsi: ',Tam_Hisse)       \n",
    "if Tam_Hisse%2 == 0:\n",
    "    print('Cüt Ədəd')\n",
    "else:\n",
    "    print('Tək Ədəd')"
   ]
  },
  {
   "cell_type": "markdown",
   "id": "f553dd79",
   "metadata": {},
   "source": [
    "# Loop"
   ]
  },
  {
   "cell_type": "code",
   "execution_count": null,
   "id": "dad5db9e",
   "metadata": {},
   "outputs": [],
   "source": [
    "#while\n",
    "n = int(input('Write a number: '))\n",
    "i=0\n",
    "while i<n:\n",
    "    i += 1\n",
    "    print(i)"
   ]
  },
  {
   "cell_type": "code",
   "execution_count": null,
   "id": "dc9bcbf0",
   "metadata": {},
   "outputs": [],
   "source": [
    "#for    \n",
    "for i in range(10):\n",
    "    i += 1\n",
    "    print(i)"
   ]
  },
  {
   "cell_type": "markdown",
   "id": "18f5c580",
   "metadata": {},
   "source": [
    "# Prime Numbers"
   ]
  },
  {
   "cell_type": "code",
   "execution_count": 3,
   "id": "67a3f032",
   "metadata": {},
   "outputs": [
    {
     "name": "stdout",
     "output_type": "stream",
     "text": [
      "N=\n"
     ]
    },
    {
     "ename": "ValueError",
     "evalue": "invalid literal for int() with base 10: ''",
     "output_type": "error",
     "traceback": [
      "\u001b[1;31m---------------------------------------------------------------------------\u001b[0m",
      "\u001b[1;31mValueError\u001b[0m                                Traceback (most recent call last)",
      "Input \u001b[1;32mIn [3]\u001b[0m, in \u001b[0;36m<cell line: 2>\u001b[1;34m()\u001b[0m\n\u001b[0;32m      1\u001b[0m result \u001b[38;5;241m=\u001b[39m []\n\u001b[1;32m----> 2\u001b[0m n \u001b[38;5;241m=\u001b[39m \u001b[38;5;28;43mint\u001b[39;49m\u001b[43m(\u001b[49m\u001b[38;5;28;43minput\u001b[39;49m\u001b[43m(\u001b[49m\u001b[38;5;124;43m'\u001b[39;49m\u001b[38;5;124;43mN=\u001b[39;49m\u001b[38;5;124;43m'\u001b[39;49m\u001b[43m)\u001b[49m\u001b[43m)\u001b[49m\n\u001b[0;32m      3\u001b[0m \u001b[38;5;28;01mfor\u001b[39;00m i \u001b[38;5;129;01min\u001b[39;00m \u001b[38;5;28mrange\u001b[39m(\u001b[38;5;241m1\u001b[39m, n):\n\u001b[0;32m      4\u001b[0m     \u001b[38;5;28;01mfor\u001b[39;00m b \u001b[38;5;129;01min\u001b[39;00m \u001b[38;5;28mrange\u001b[39m(\u001b[38;5;241m2\u001b[39m, i):\n",
      "\u001b[1;31mValueError\u001b[0m: invalid literal for int() with base 10: ''"
     ]
    }
   ],
   "source": [
    "result = []\n",
    "n = int(input('N='))\n",
    "for i in range(1, n):\n",
    "    for b in range(2, i):\n",
    "        if (i%b == 0):\n",
    "            break\n",
    "    else:\n",
    "        result.append(i)\n",
    "print(result)\n"
   ]
  },
  {
   "cell_type": "markdown",
   "id": "a81990f6",
   "metadata": {},
   "source": [
    "# Cut & Tek Ededler"
   ]
  },
  {
   "cell_type": "code",
   "execution_count": 4,
   "id": "e54a6c03",
   "metadata": {
    "scrolled": true
   },
   "outputs": [
    {
     "name": "stdout",
     "output_type": "stream",
     "text": [
      "Write a number: \n"
     ]
    },
    {
     "ename": "ValueError",
     "evalue": "invalid literal for int() with base 10: ''",
     "output_type": "error",
     "traceback": [
      "\u001b[1;31m---------------------------------------------------------------------------\u001b[0m",
      "\u001b[1;31mValueError\u001b[0m                                Traceback (most recent call last)",
      "Input \u001b[1;32mIn [4]\u001b[0m, in \u001b[0;36m<cell line: 2>\u001b[1;34m()\u001b[0m\n\u001b[0;32m      1\u001b[0m \u001b[38;5;66;03m#Cut_Eded\u001b[39;00m\n\u001b[1;32m----> 2\u001b[0m n \u001b[38;5;241m=\u001b[39m \u001b[38;5;28;43mint\u001b[39;49m\u001b[43m(\u001b[49m\u001b[38;5;28;43minput\u001b[39;49m\u001b[43m(\u001b[49m\u001b[38;5;124;43m'\u001b[39;49m\u001b[38;5;124;43mWrite a number: \u001b[39;49m\u001b[38;5;124;43m'\u001b[39;49m\u001b[43m)\u001b[49m\u001b[43m)\u001b[49m\n\u001b[0;32m      3\u001b[0m i\u001b[38;5;241m=\u001b[39m\u001b[38;5;241m1\u001b[39m\n\u001b[0;32m      4\u001b[0m \u001b[38;5;28;01mwhile\u001b[39;00m i\u001b[38;5;241m<\u001b[39mn:\n",
      "\u001b[1;31mValueError\u001b[0m: invalid literal for int() with base 10: ''"
     ]
    }
   ],
   "source": [
    "#Cut_Eded\n",
    "n = int(input('Write a number: '))\n",
    "i=1\n",
    "while i<n:\n",
    "    if i%2 == 0:\n",
    "        print(i)\n",
    "    else:\n",
    "        pass\n",
    "    i+=1\n",
    "print('Cut Ededler')   "
   ]
  },
  {
   "cell_type": "code",
   "execution_count": 5,
   "id": "d4fa79aa",
   "metadata": {
    "scrolled": true
   },
   "outputs": [
    {
     "name": "stdout",
     "output_type": "stream",
     "text": [
      "Write a number: \n"
     ]
    },
    {
     "ename": "ValueError",
     "evalue": "invalid literal for int() with base 10: ''",
     "output_type": "error",
     "traceback": [
      "\u001b[1;31m---------------------------------------------------------------------------\u001b[0m",
      "\u001b[1;31mValueError\u001b[0m                                Traceback (most recent call last)",
      "Input \u001b[1;32mIn [5]\u001b[0m, in \u001b[0;36m<cell line: 2>\u001b[1;34m()\u001b[0m\n\u001b[0;32m      1\u001b[0m \u001b[38;5;66;03m#Tek_Eded\u001b[39;00m\n\u001b[1;32m----> 2\u001b[0m n \u001b[38;5;241m=\u001b[39m \u001b[38;5;28;43mint\u001b[39;49m\u001b[43m(\u001b[49m\u001b[38;5;28;43minput\u001b[39;49m\u001b[43m(\u001b[49m\u001b[38;5;124;43m'\u001b[39;49m\u001b[38;5;124;43mWrite a number: \u001b[39;49m\u001b[38;5;124;43m'\u001b[39;49m\u001b[43m)\u001b[49m\u001b[43m)\u001b[49m\n\u001b[0;32m      3\u001b[0m i\u001b[38;5;241m=\u001b[39m\u001b[38;5;241m1\u001b[39m\n\u001b[0;32m      4\u001b[0m \u001b[38;5;28;01mwhile\u001b[39;00m i\u001b[38;5;241m<\u001b[39mn:\n",
      "\u001b[1;31mValueError\u001b[0m: invalid literal for int() with base 10: ''"
     ]
    }
   ],
   "source": [
    "#Tek_Eded\n",
    "n = int(input('Write a number: '))\n",
    "i=1\n",
    "while i<n:\n",
    "    if i%2 == 1:\n",
    "        print(i)\n",
    "    else:\n",
    "        pass\n",
    "    i+=1\n",
    "print('Tek Ededler')"
   ]
  },
  {
   "cell_type": "markdown",
   "id": "a70c16f3",
   "metadata": {},
   "source": [
    "# Min to Max"
   ]
  },
  {
   "cell_type": "code",
   "execution_count": 6,
   "id": "e7945ec3",
   "metadata": {},
   "outputs": [
    {
     "name": "stdout",
     "output_type": "stream",
     "text": [
      "[-4, -3, 0, 1, 3.5, 5, 10, 12]\n"
     ]
    }
   ],
   "source": [
    "l = [1,5,-4,12,3.5,0,10,-3]\n",
    "\n",
    "for j in range(len(l)):\n",
    "    m = l[j]\n",
    "    idx = j\n",
    "    c = j\n",
    "    for i in range(j,len(l)):\n",
    "        if l[i]<m:\n",
    "            m = l[i]\n",
    "            idx = c\n",
    "        c+=1\n",
    "    tmp = l[j]\n",
    "    l[j] = m\n",
    "    l[idx] = tmp\n",
    "print(l)"
   ]
  },
  {
   "cell_type": "markdown",
   "id": "da43da1f",
   "metadata": {},
   "source": [
    "Basa Dusmedim"
   ]
  },
  {
   "cell_type": "markdown",
   "id": "5cdb2613",
   "metadata": {},
   "source": [
    "# Functions "
   ]
  },
  {
   "cell_type": "code",
   "execution_count": 7,
   "id": "c4c96a01",
   "metadata": {},
   "outputs": [
    {
     "name": "stdout",
     "output_type": "stream",
     "text": [
      "10 jim vur kele\n",
      "20 press vur kele\n",
      "5deq dincel\n"
     ]
    }
   ],
   "source": [
    "def kele():\n",
    "    print('10 jim vur kele')\n",
    "    print('20 press vur kele')\n",
    "    print('5deq dincel')\n",
    "    \n",
    "kele()\n",
    "    "
   ]
  },
  {
   "cell_type": "code",
   "execution_count": 30,
   "id": "12d08d43",
   "metadata": {},
   "outputs": [
    {
     "name": "stdout",
     "output_type": "stream",
     "text": [
      "13\n",
      "13\n"
     ]
    }
   ],
   "source": [
    "def add(a,b):\n",
    "    c=a+b    \n",
    "    print(c) #inside\n",
    "    return c\n",
    " \n",
    "#Outside\n",
    "a = add(4,9)\n",
    "print(a)"
   ]
  },
  {
   "cell_type": "markdown",
   "id": "376812b4",
   "metadata": {},
   "source": [
    "Return"
   ]
  },
  {
   "cell_type": "markdown",
   "id": "a2891811",
   "metadata": {},
   "source": [
    "# Default Variable"
   ]
  },
  {
   "cell_type": "code",
   "execution_count": 9,
   "id": "f4983bf2",
   "metadata": {},
   "outputs": [],
   "source": [
    "def user_information(name='Not Written',surname='Not Written',age='Not Written'):\n",
    "    return f'First Name: {name} Last Name: {surname} Age: {age}'"
   ]
  },
  {
   "cell_type": "code",
   "execution_count": 10,
   "id": "f5257f3f",
   "metadata": {},
   "outputs": [
    {
     "name": "stdout",
     "output_type": "stream",
     "text": [
      "First Name: Not Written Last Name: Not Written Age: Not Written\n",
      "First Name: Bahram Last Name: Muzaffarli Age: 21\n"
     ]
    }
   ],
   "source": [
    "print(user_information())\n",
    "print(user_information('Bahram','Muzaffarli',21))"
   ]
  },
  {
   "cell_type": "markdown",
   "id": "f6807e1c",
   "metadata": {},
   "source": [
    "# *Args"
   ]
  },
  {
   "cell_type": "code",
   "execution_count": 11,
   "id": "ca39ae4f",
   "metadata": {},
   "outputs": [],
   "source": [
    "def Sum(*args):\n",
    "    s = 0\n",
    "    for i in range(len(args)):\n",
    "        s = s + args[i]\n",
    "    return s"
   ]
  },
  {
   "cell_type": "code",
   "execution_count": 12,
   "id": "11c6ef39",
   "metadata": {},
   "outputs": [
    {
     "data": {
      "text/plain": [
       "35"
      ]
     },
     "execution_count": 12,
     "metadata": {},
     "output_type": "execute_result"
    }
   ],
   "source": [
    "Sum(4,5,8,7,1,10)"
   ]
  },
  {
   "cell_type": "markdown",
   "id": "4b995c44",
   "metadata": {},
   "source": [
    "# **Kwargs"
   ]
  },
  {
   "cell_type": "code",
   "execution_count": 13,
   "id": "8925b0ae",
   "metadata": {},
   "outputs": [],
   "source": [
    "def f(**kwargs):\n",
    "    for x in kwargs:\n",
    "        print(x,kwargs[x])"
   ]
  },
  {
   "cell_type": "code",
   "execution_count": 14,
   "id": "87d27a21",
   "metadata": {},
   "outputs": [
    {
     "name": "stdout",
     "output_type": "stream",
     "text": [
      "a asiq elesger\n",
      "z zarttiri zort zort\n",
      "x xomeyni\n",
      "r 31\n"
     ]
    }
   ],
   "source": [
    "f(a = 'asiq elesger', z = 'zarttiri zort zort', x='xomeyni',r=31)"
   ]
  },
  {
   "cell_type": "markdown",
   "id": "19baaef8",
   "metadata": {},
   "source": [
    "# TRY/EXCEPT"
   ]
  },
  {
   "cell_type": "code",
   "execution_count": 15,
   "id": "1a3218da",
   "metadata": {},
   "outputs": [
    {
     "name": "stdout",
     "output_type": "stream",
     "text": [
      "1st number: \n",
      "2nd number: \n",
      "Write number \n"
     ]
    }
   ],
   "source": [
    "num1 = input('1st number: ')\n",
    "num2 = input('2nd number: ')\n",
    "\n",
    "try:\n",
    "    num1 = int(num1)\n",
    "    num2 = int(num2)\n",
    "    print('Answer: ', num1/num2)\n",
    "\n",
    "except ValueError:\n",
    "    print('Write number ')\n",
    "\n",
    "except ZeroDivisionError:\n",
    "    print('You can not divide to Zero')"
   ]
  },
  {
   "cell_type": "code",
   "execution_count": 16,
   "id": "ce0c0de5",
   "metadata": {},
   "outputs": [
    {
     "name": "stdout",
     "output_type": "stream",
     "text": [
      "You should write string, but you wrote  <class 'int'>\n",
      "Remain 83%  \n",
      "1st number: \n",
      "2nd number: \n",
      "Write number \n",
      "Ugurlu Emeliyyat\n",
      "       salam exi necesen        \n",
      "salam exi necesen\n",
      "       SALAM EXI NECESEN        \n",
      "       salam exi necesen        \n",
      "       salam exi necesen        \n",
      "       salam əxi nəcəsən        \n"
     ]
    }
   ],
   "source": [
    "#4  ??? \n",
    "import sys\n",
    "sys.path.append('C:/Users/FX505DT/PycharmProjects/Python')\n",
    "import JupyterTest as j\n"
   ]
  },
  {
   "cell_type": "markdown",
   "id": "5fc8bee5",
   "metadata": {},
   "source": [
    "# Strings func"
   ]
  },
  {
   "cell_type": "code",
   "execution_count": 17,
   "id": "90141820",
   "metadata": {},
   "outputs": [
    {
     "name": "stdout",
     "output_type": "stream",
     "text": [
      "       salam exi necesen        \n",
      "salam exi necesen\n",
      "       SALAM EXI NECESEN        \n",
      "       salam exi necesen        \n",
      "       salam exi necesen        \n",
      "       salam əxi nəcəsən        \n"
     ]
    }
   ],
   "source": [
    "a = '       salam exi necesen        '\n",
    "print(a)\n",
    "print(a.strip())\n",
    "print(a.upper())\n",
    "print(a.lower())\n",
    "print(a.capitalize())\n",
    "print(a.replace('e', 'ə'))\n"
   ]
  },
  {
   "cell_type": "markdown",
   "id": "32832f09",
   "metadata": {},
   "source": [
    "# Data Structures"
   ]
  },
  {
   "cell_type": "code",
   "execution_count": 18,
   "id": "9cf12131",
   "metadata": {},
   "outputs": [],
   "source": [
    "List = ['salam',1,2,3,'sagol']\n",
    "Tuple = ('salam',1,2,3,'sagol')\n",
    "Set = {'salam',1,2,3,'sagol'}\n",
    "Dict = {'sa':'salam','r':1}"
   ]
  },
  {
   "cell_type": "code",
   "execution_count": 19,
   "id": "848994d5",
   "metadata": {},
   "outputs": [
    {
     "name": "stdout",
     "output_type": "stream",
     "text": [
      "['salam', 1, 2, 3, 'sagol'] ('salam', 1, 2, 3, 'sagol') {1, 2, 3, 'salam', 'sagol'} {'sa': 'salam', 'r': 1}\n"
     ]
    }
   ],
   "source": [
    "print(List,Tuple,Set,Dict)"
   ]
  },
  {
   "cell_type": "code",
   "execution_count": 20,
   "id": "71f28ef2",
   "metadata": {},
   "outputs": [],
   "source": [
    "List.append('Add')\n",
    "Set.add('Add')"
   ]
  },
  {
   "cell_type": "code",
   "execution_count": 21,
   "id": "7ec9bcf9",
   "metadata": {},
   "outputs": [
    {
     "name": "stdout",
     "output_type": "stream",
     "text": [
      "['salam', 1, 2, 3, 'sagol', 'Add'] {1, 2, 3, 'salam', 'sagol', 'Add'}\n"
     ]
    }
   ],
   "source": [
    "print(List,Set)"
   ]
  },
  {
   "cell_type": "markdown",
   "id": "2c8a5e08",
   "metadata": {},
   "source": [
    "# Example"
   ]
  },
  {
   "cell_type": "code",
   "execution_count": 22,
   "id": "25072062",
   "metadata": {},
   "outputs": [],
   "source": [
    "def getData():\n",
    "    D = {}\n",
    "    while True:\n",
    "        studentId =  input('Write student id: ')\n",
    "        marksList = input('Enter the marks: ')\n",
    "        moreStudent = input('No for quit!')\n",
    "        if studentId in D:\n",
    "            print(studentId,'Same student ID, Please change.')\n",
    "        else:\n",
    "            D[studentId] = marksList.split(',')\n",
    "        if moreStudent.lower() == 'no':\n",
    "            return D        "
   ]
  },
  {
   "cell_type": "code",
   "execution_count": 23,
   "id": "40caf5fc",
   "metadata": {},
   "outputs": [
    {
     "name": "stdout",
     "output_type": "stream",
     "text": [
      "Write student id: \n",
      "Enter the marks: \n",
      "No for quit!\n",
      "Write student id: \n",
      "Enter the marks: \n",
      "No for quit!\n",
      " Same student ID, Please change.\n",
      "Write student id: \n",
      "Enter the marks: \n",
      "No for quit!\n",
      " Same student ID, Please change.\n",
      "Write student id: \n",
      "Enter the marks: \n",
      "No for quit!\n",
      " Same student ID, Please change.\n",
      "Write student id: \n",
      "Enter the marks: \n",
      "No for quit!no\n",
      " Same student ID, Please change.\n"
     ]
    },
    {
     "data": {
      "text/plain": [
       "{'': ['']}"
      ]
     },
     "execution_count": 23,
     "metadata": {},
     "output_type": "execute_result"
    }
   ],
   "source": [
    "getData()"
   ]
  },
  {
   "cell_type": "code",
   "execution_count": 24,
   "id": "6f714b6d",
   "metadata": {},
   "outputs": [
    {
     "name": "stdout",
     "output_type": "stream",
     "text": [
      "Write student id: \n",
      "Enter the marks: \n",
      "No for quit!\n",
      "Write student id: no\n",
      "Enter the marks: no\n",
      "No for quit!no\n"
     ]
    }
   ],
   "source": [
    "studentData = getData()"
   ]
  },
  {
   "cell_type": "code",
   "execution_count": 25,
   "id": "1e6add91",
   "metadata": {},
   "outputs": [],
   "source": [
    "def getAvg(D):\n",
    "    avgMarks = {}\n",
    "    for x in D:\n",
    "        L = D[x]\n",
    "        s = 0\n",
    "        for marks in L:\n",
    "            s+=int(marks)\n",
    "        avgMarks[x] = s/len(L) \n",
    "    return avgMarks"
   ]
  },
  {
   "cell_type": "code",
   "execution_count": 26,
   "id": "c3da9e32",
   "metadata": {},
   "outputs": [
    {
     "ename": "ValueError",
     "evalue": "invalid literal for int() with base 10: ''",
     "output_type": "error",
     "traceback": [
      "\u001b[1;31m---------------------------------------------------------------------------\u001b[0m",
      "\u001b[1;31mValueError\u001b[0m                                Traceback (most recent call last)",
      "Input \u001b[1;32mIn [26]\u001b[0m, in \u001b[0;36m<cell line: 1>\u001b[1;34m()\u001b[0m\n\u001b[1;32m----> 1\u001b[0m avgM \u001b[38;5;241m=\u001b[39m \u001b[43mgetAvg\u001b[49m\u001b[43m(\u001b[49m\u001b[43mstudentData\u001b[49m\u001b[43m)\u001b[49m\n",
      "Input \u001b[1;32mIn [25]\u001b[0m, in \u001b[0;36mgetAvg\u001b[1;34m(D)\u001b[0m\n\u001b[0;32m      5\u001b[0m     s \u001b[38;5;241m=\u001b[39m \u001b[38;5;241m0\u001b[39m\n\u001b[0;32m      6\u001b[0m     \u001b[38;5;28;01mfor\u001b[39;00m marks \u001b[38;5;129;01min\u001b[39;00m L:\n\u001b[1;32m----> 7\u001b[0m         s\u001b[38;5;241m+\u001b[39m\u001b[38;5;241m=\u001b[39m\u001b[38;5;28;43mint\u001b[39;49m\u001b[43m(\u001b[49m\u001b[43mmarks\u001b[49m\u001b[43m)\u001b[49m\n\u001b[0;32m      8\u001b[0m     avgMarks[x] \u001b[38;5;241m=\u001b[39m s\u001b[38;5;241m/\u001b[39m\u001b[38;5;28mlen\u001b[39m(L) \n\u001b[0;32m      9\u001b[0m \u001b[38;5;28;01mreturn\u001b[39;00m avgMarks\n",
      "\u001b[1;31mValueError\u001b[0m: invalid literal for int() with base 10: ''"
     ]
    }
   ],
   "source": [
    "avgM = getAvg(studentData)"
   ]
  },
  {
   "cell_type": "code",
   "execution_count": 27,
   "id": "1a968851",
   "metadata": {},
   "outputs": [
    {
     "ename": "NameError",
     "evalue": "name 'avgM' is not defined",
     "output_type": "error",
     "traceback": [
      "\u001b[1;31m---------------------------------------------------------------------------\u001b[0m",
      "\u001b[1;31mNameError\u001b[0m                                 Traceback (most recent call last)",
      "Input \u001b[1;32mIn [27]\u001b[0m, in \u001b[0;36m<cell line: 1>\u001b[1;34m()\u001b[0m\n\u001b[1;32m----> 1\u001b[0m \u001b[38;5;28;01mfor\u001b[39;00m x \u001b[38;5;129;01min\u001b[39;00m \u001b[43mavgM\u001b[49m:\n\u001b[0;32m      2\u001b[0m     \u001b[38;5;28mprint\u001b[39m(\u001b[38;5;124m'\u001b[39m\u001b[38;5;124mstudent: \u001b[39m\u001b[38;5;124m'\u001b[39m,x,\u001b[38;5;124m'\u001b[39m\u001b[38;5;124mgot,\u001b[39m\u001b[38;5;124m'\u001b[39m,avgM[x])\n",
      "\u001b[1;31mNameError\u001b[0m: name 'avgM' is not defined"
     ]
    }
   ],
   "source": [
    "for x in avgM:\n",
    "    print('student: ',x,'got,',avgM[x])"
   ]
  },
  {
   "cell_type": "markdown",
   "id": "6ebc6a7c",
   "metadata": {},
   "source": [
    "Sholud make better and understand."
   ]
  },
  {
   "cell_type": "markdown",
   "id": "f744516c",
   "metadata": {},
   "source": []
  },
  {
   "cell_type": "code",
   "execution_count": 28,
   "id": "e0ff2c6d",
   "metadata": {},
   "outputs": [
    {
     "name": "stdout",
     "output_type": "stream",
     "text": [
      "Variable           Type        Data/Info\n",
      "----------------------------------------\n",
      "Dict               dict        n=2\n",
      "List               list        n=6\n",
      "Set                set         {1, 2, 3, 'salam', 'sagol', 'Add'}\n",
      "Sum                function    <function Sum at 0x000002860CDFF310>\n",
      "Tuple              tuple       n=5\n",
      "a                  str                salam exi necesen        \n",
      "add                function    <function add at 0x000002860B2B8310>\n",
      "c                  int         8\n",
      "f                  function    <function f at 0x000002860CE2CEE0>\n",
      "getAvg             function    <function getAvg at 0x000002860CE7EDC0>\n",
      "getData            function    <function getData at 0x000002860CE2C940>\n",
      "i                  int         7\n",
      "idx                int         7\n",
      "j                  module      <module 'JupyterTest' fro<...>/Python\\\\JupyterTest.py'>\n",
      "kele               function    <function kele at 0x000002860B2B83A0>\n",
      "l                  list        n=8\n",
      "m                  int         12\n",
      "num1               str         \n",
      "num2               str         \n",
      "result             list        n=0\n",
      "studentData        dict        n=2\n",
      "sys                module      <module 'sys' (built-in)>\n",
      "tmp                int         12\n",
      "user_information   function    <function user_information at 0x000002860B230940>\n"
     ]
    }
   ],
   "source": [
    "%whos"
   ]
  },
  {
   "cell_type": "code",
   "execution_count": null,
   "id": "bc15f9b8",
   "metadata": {},
   "outputs": [],
   "source": []
  }
 ],
 "metadata": {
  "kernelspec": {
   "display_name": "Python 3 (ipykernel)",
   "language": "python",
   "name": "python3"
  },
  "language_info": {
   "codemirror_mode": {
    "name": "ipython",
    "version": 3
   },
   "file_extension": ".py",
   "mimetype": "text/x-python",
   "name": "python",
   "nbconvert_exporter": "python",
   "pygments_lexer": "ipython3",
   "version": "3.9.12"
  }
 },
 "nbformat": 4,
 "nbformat_minor": 5
}
