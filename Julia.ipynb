{
 "cells": [
  {
   "cell_type": "markdown",
   "id": "a2d26ba5",
   "metadata": {},
   "source": [
    "# Julia Basics"
   ]
  },
  {
   "cell_type": "code",
   "execution_count": 33,
   "id": "27f06b3d",
   "metadata": {},
   "outputs": [
    {
     "data": {
      "text/plain": [
       "3"
      ]
     },
     "execution_count": 33,
     "metadata": {},
     "output_type": "execute_result"
    }
   ],
   "source": [
    "begin\n",
    "    x=1\n",
    "    y=2\n",
    "    x+y\n",
    "end\n",
    "#result same without begin and end"
   ]
  },
  {
   "cell_type": "code",
   "execution_count": 90,
   "id": "b353f4c7",
   "metadata": {},
   "outputs": [
    {
     "data": {
      "text/plain": [
       "3"
      ]
     },
     "execution_count": 90,
     "metadata": {},
     "output_type": "execute_result"
    }
   ],
   "source": [
    "(x=1;y=2;x+y)"
   ]
  },
  {
   "cell_type": "markdown",
   "id": "39d5392a",
   "metadata": {},
   "source": [
    "# Strings"
   ]
  },
  {
   "cell_type": "code",
   "execution_count": 2,
   "id": "a5127ae7",
   "metadata": {},
   "outputs": [
    {
     "data": {
      "text/plain": [
       "\"Hello World\""
      ]
     },
     "execution_count": 2,
     "metadata": {},
     "output_type": "execute_result"
    }
   ],
   "source": [
    "h = \"Hello\"\n",
    "w = \" World\"\n",
    "hi = h*w"
   ]
  },
  {
   "cell_type": "code",
   "execution_count": 3,
   "id": "acdd2d8b",
   "metadata": {},
   "outputs": [
    {
     "data": {
      "text/plain": [
       "\"Hello World\""
      ]
     },
     "execution_count": 3,
     "metadata": {},
     "output_type": "execute_result"
    }
   ],
   "source": [
    "string(h,w)"
   ]
  },
  {
   "cell_type": "code",
   "execution_count": 4,
   "id": "4089a857",
   "metadata": {},
   "outputs": [
    {
     "name": "stdout",
     "output_type": "stream",
     "text": [
      "H\n"
     ]
    }
   ],
   "source": [
    "println(hi[begin])\n",
    "#println(hi[end])\n",
    "#println or print"
   ]
  },
  {
   "cell_type": "code",
   "execution_count": 5,
   "id": "3a87a6be",
   "metadata": {},
   "outputs": [
    {
     "data": {
      "text/plain": [
       "\"Hello  World ! or smth else\""
      ]
     },
     "execution_count": 5,
     "metadata": {},
     "output_type": "execute_result"
    }
   ],
   "source": [
    "\"$h $w ! or smth else\"\n",
    "#$ variable string "
   ]
  },
  {
   "cell_type": "code",
   "execution_count": 6,
   "id": "e38ce1f0",
   "metadata": {},
   "outputs": [
    {
     "data": {
      "text/plain": [
       "11"
      ]
     },
     "execution_count": 6,
     "metadata": {},
     "output_type": "execute_result"
    }
   ],
   "source": [
    "length(hi)"
   ]
  },
  {
   "cell_type": "code",
   "execution_count": 7,
   "id": "5e40cbb1",
   "metadata": {},
   "outputs": [
    {
     "data": {
      "text/plain": [
       "1:5"
      ]
     },
     "execution_count": 7,
     "metadata": {},
     "output_type": "execute_result"
    }
   ],
   "source": [
    "findfirst(\"Hello\",hi) # show postion of string (solda yazilanin sagdaki stringdeki yeri)"
   ]
  },
  {
   "cell_type": "code",
   "execution_count": 10,
   "id": "4de2b38d",
   "metadata": {},
   "outputs": [
    {
     "data": {
      "text/plain": [
       "7:10"
      ]
     },
     "execution_count": 10,
     "metadata": {},
     "output_type": "execute_result"
    }
   ],
   "source": [
    "findfirst(\"Baku\", \"Hello Baku from Warsaw\")"
   ]
  },
  {
   "cell_type": "code",
   "execution_count": 12,
   "id": "db566be6",
   "metadata": {},
   "outputs": [
    {
     "data": {
      "text/plain": [
       "true"
      ]
     },
     "execution_count": 12,
     "metadata": {},
     "output_type": "execute_result"
    }
   ],
   "source": [
    "occursin(\"Hello\",hi) #there is this string - true or false"
   ]
  },
  {
   "cell_type": "code",
   "execution_count": 13,
   "id": "5255d850",
   "metadata": {},
   "outputs": [
    {
     "data": {
      "text/plain": [
       "\"Hello Warsaw\""
      ]
     },
     "execution_count": 13,
     "metadata": {},
     "output_type": "execute_result"
    }
   ],
   "source": [
    "replace(hi,\"World\"=>\"Warsaw\")"
   ]
  },
  {
   "cell_type": "code",
   "execution_count": 18,
   "id": "ef049701",
   "metadata": {},
   "outputs": [
    {
     "data": {
      "text/plain": [
       "\"Hello Warsaw\""
      ]
     },
     "execution_count": 18,
     "metadata": {},
     "output_type": "execute_result"
    }
   ],
   "source": [
    "replace(hi,\"World\"=>\"Warsaw\")"
   ]
  },
  {
   "cell_type": "markdown",
   "id": "504c96cb",
   "metadata": {},
   "source": [
    "# Tuple"
   ]
  },
  {
   "cell_type": "code",
   "execution_count": 73,
   "id": "a8b6a8f0",
   "metadata": {},
   "outputs": [
    {
     "data": {
      "text/plain": [
       "(\"tuple\", 3, 4.5, \"end\")"
      ]
     },
     "execution_count": 73,
     "metadata": {},
     "output_type": "execute_result"
    }
   ],
   "source": [
    "t = (\"tuple\",3,4.5,\"end\")"
   ]
  },
  {
   "cell_type": "code",
   "execution_count": 74,
   "id": "03e613d9",
   "metadata": {},
   "outputs": [
    {
     "data": {
      "text/plain": [
       "Tuple{String, Int64, Float64, String}"
      ]
     },
     "execution_count": 74,
     "metadata": {},
     "output_type": "execute_result"
    }
   ],
   "source": [
    "typeof(t)"
   ]
  },
  {
   "cell_type": "code",
   "execution_count": 80,
   "id": "049a489d",
   "metadata": {},
   "outputs": [
    {
     "data": {
      "text/plain": [
       "\"end\""
      ]
     },
     "execution_count": 80,
     "metadata": {},
     "output_type": "execute_result"
    }
   ],
   "source": [
    "t[4]"
   ]
  },
  {
   "cell_type": "code",
   "execution_count": 82,
   "id": "b71d5c7d",
   "metadata": {},
   "outputs": [
    {
     "ename": "LoadError",
     "evalue": "MethodError: no method matching setindex!(::Tuple{String, Int64, Float64, String}, ::String, ::Int64)",
     "output_type": "error",
     "traceback": [
      "MethodError: no method matching setindex!(::Tuple{String, Int64, Float64, String}, ::String, ::Int64)",
      "",
      "Stacktrace:",
      " [1] top-level scope",
      "   @ In[82]:1"
     ]
    }
   ],
   "source": [
    "#t[4] = \"smth\" -it is not working"
   ]
  },
  {
   "cell_type": "markdown",
   "id": "b0fe3f34",
   "metadata": {},
   "source": [
    "# Dictionary"
   ]
  },
  {
   "cell_type": "code",
   "execution_count": 62,
   "id": "8c4b22df",
   "metadata": {},
   "outputs": [
    {
     "data": {
      "text/plain": [
       "Dict{Real, String} with 5 entries:\n",
       "  5   => \"A\"\n",
       "  4   => \"C\"\n",
       "  3.5 => \"D\"\n",
       "  4.5 => \"B\"\n",
       "  3   => \"E\""
      ]
     },
     "execution_count": 62,
     "metadata": {},
     "output_type": "execute_result"
    }
   ],
   "source": [
    "d = Dict(5=>\"A\",4.5=>\"B\",4=>\"C\",3.5=>\"D\",3=>\"E\")"
   ]
  },
  {
   "cell_type": "code",
   "execution_count": 68,
   "id": "aeb6e794",
   "metadata": {},
   "outputs": [
    {
     "data": {
      "text/plain": [
       "\"F\""
      ]
     },
     "execution_count": 68,
     "metadata": {},
     "output_type": "execute_result"
    }
   ],
   "source": [
    "# Add to Dict\n",
    " d[2] = \"F\""
   ]
  },
  {
   "cell_type": "code",
   "execution_count": 64,
   "id": "c03717cd",
   "metadata": {},
   "outputs": [
    {
     "data": {
      "text/plain": [
       "Dict{Real, String} with 6 entries:\n",
       "  5   => \"A\"\n",
       "  4   => \"C\"\n",
       "  3.5 => \"D\"\n",
       "  2   => \"F\"\n",
       "  4.5 => \"B\"\n",
       "  3   => \"E\""
      ]
     },
     "execution_count": 64,
     "metadata": {},
     "output_type": "execute_result"
    }
   ],
   "source": [
    "d"
   ]
  },
  {
   "cell_type": "code",
   "execution_count": 69,
   "id": "3410cef3",
   "metadata": {},
   "outputs": [
    {
     "data": {
      "text/plain": [
       "\"F\""
      ]
     },
     "execution_count": 69,
     "metadata": {},
     "output_type": "execute_result"
    }
   ],
   "source": [
    "#Delete from Dict\n",
    "pop!(d, 2)"
   ]
  },
  {
   "cell_type": "code",
   "execution_count": 71,
   "id": "328114c4",
   "metadata": {},
   "outputs": [
    {
     "data": {
      "text/plain": [
       "Dict{Real, String}"
      ]
     },
     "execution_count": 71,
     "metadata": {},
     "output_type": "execute_result"
    }
   ],
   "source": [
    "d"
   ]
  },
  {
   "cell_type": "code",
   "execution_count": 81,
   "id": "f8af50d9",
   "metadata": {},
   "outputs": [
    {
     "ename": "LoadError",
     "evalue": "KeyError: key 1 not found",
     "output_type": "error",
     "traceback": [
      "KeyError: key 1 not found",
      "",
      "Stacktrace:",
      " [1] getindex(h::Dict{Real, String}, key::Int64)",
      "   @ Base .\\dict.jl:498",
      " [2] top-level scope",
      "   @ In[81]:1"
     ]
    }
   ],
   "source": [
    "#d[1] -it is not working "
   ]
  },
  {
   "cell_type": "markdown",
   "id": "6327e2d3",
   "metadata": {},
   "source": [
    "# Array"
   ]
  },
  {
   "cell_type": "code",
   "execution_count": 1,
   "id": "da61166b",
   "metadata": {},
   "outputs": [
    {
     "data": {
      "text/plain": [
       "5-element Vector{Int64}:\n",
       " 1731235290512\n",
       "          4946\n",
       "            -1\n",
       "             0\n",
       "             0"
      ]
     },
     "execution_count": 1,
     "metadata": {},
     "output_type": "execute_result"
    }
   ],
   "source": [
    "a1 = Array{Int64}(undef,5) #vector"
   ]
  },
  {
   "cell_type": "code",
   "execution_count": 2,
   "id": "5cafbc85",
   "metadata": {},
   "outputs": [
    {
     "data": {
      "text/plain": [
       "2×2 Matrix{Int64}:\n",
       "               0  1731230961904\n",
       " 140711282000144              0"
      ]
     },
     "execution_count": 2,
     "metadata": {},
     "output_type": "execute_result"
    }
   ],
   "source": [
    "a2 = Array{Int64}(undef,(2,2)) #2x2 matrix"
   ]
  },
  {
   "cell_type": "code",
   "execution_count": 3,
   "id": "d89e9d95",
   "metadata": {},
   "outputs": [
    {
     "data": {
      "text/plain": [
       "3-element Vector{Int64}:\n",
       " 1\n",
       " 2\n",
       " 3"
      ]
     },
     "execution_count": 3,
     "metadata": {},
     "output_type": "execute_result"
    }
   ],
   "source": [
    "a3 = [1, 2, 3]"
   ]
  },
  {
   "cell_type": "code",
   "execution_count": 6,
   "id": "27e0a971",
   "metadata": {},
   "outputs": [
    {
     "data": {
      "text/plain": [
       "4-element Vector{Int64}:\n",
       " 1\n",
       " 2\n",
       " 3\n",
       " 4"
      ]
     },
     "execution_count": 6,
     "metadata": {},
     "output_type": "execute_result"
    }
   ],
   "source": [
    "push!(a3,4)\n",
    "#add elemet to array"
   ]
  },
  {
   "cell_type": "code",
   "execution_count": 7,
   "id": "beee2ffe",
   "metadata": {},
   "outputs": [
    {
     "data": {
      "text/plain": [
       "4"
      ]
     },
     "execution_count": 7,
     "metadata": {},
     "output_type": "execute_result"
    }
   ],
   "source": [
    "pop!(a3)\n",
    "#delete element from end of array"
   ]
  },
  {
   "cell_type": "code",
   "execution_count": 4,
   "id": "fea117a4",
   "metadata": {},
   "outputs": [
    {
     "data": {
      "text/plain": [
       "1×3 Matrix{Int64}:\n",
       " 1  2  3"
      ]
     },
     "execution_count": 4,
     "metadata": {},
     "output_type": "execute_result"
    }
   ],
   "source": [
    "a4 = [1 2 3]"
   ]
  },
  {
   "cell_type": "code",
   "execution_count": 39,
   "id": "adcf2f9a",
   "metadata": {},
   "outputs": [
    {
     "data": {
      "text/plain": [
       "2×3 Matrix{Int64}:\n",
       " 1   2    3\n",
       " 0  10  100"
      ]
     },
     "execution_count": 39,
     "metadata": {},
     "output_type": "execute_result"
    }
   ],
   "source": [
    "a5 = [1 2 3; 0 10 100]"
   ]
  },
  {
   "cell_type": "code",
   "execution_count": 41,
   "id": "7e9f7ee3",
   "metadata": {},
   "outputs": [
    {
     "data": {
      "text/plain": [
       "3-element Vector{Float64}:\n",
       "  0.9634738043570581\n",
       " -0.30189816146621395\n",
       " -0.135771502002226"
      ]
     },
     "execution_count": 41,
     "metadata": {},
     "output_type": "execute_result"
    }
   ],
   "source": [
    "randn(3)"
   ]
  },
  {
   "cell_type": "code",
   "execution_count": 42,
   "id": "1a83b8ea",
   "metadata": {},
   "outputs": [
    {
     "data": {
      "text/plain": [
       "3-element Vector{Float64}:\n",
       " 0.8659867471671021\n",
       " 0.29814064871189283\n",
       " 0.11161825529957714"
      ]
     },
     "execution_count": 42,
     "metadata": {},
     "output_type": "execute_result"
    }
   ],
   "source": [
    "rand(3) #number between 0 & 1"
   ]
  },
  {
   "cell_type": "code",
   "execution_count": 49,
   "id": "ec063793",
   "metadata": {},
   "outputs": [
    {
     "data": {
      "text/plain": [
       "1×6 Matrix{Float64}:\n",
       " 0.600294  0.676445  0.674655  0.62937  0.0597628  0.679281"
      ]
     },
     "execution_count": 49,
     "metadata": {},
     "output_type": "execute_result"
    }
   ],
   "source": [
    "rand(1,6) #number between 0 & 1"
   ]
  },
  {
   "cell_type": "code",
   "execution_count": 50,
   "id": "2ba70a81",
   "metadata": {},
   "outputs": [
    {
     "data": {
      "text/plain": [
       "32.0"
      ]
     },
     "execution_count": 50,
     "metadata": {},
     "output_type": "execute_result"
    }
   ],
   "source": [
    "round(31.5321)"
   ]
  },
  {
   "cell_type": "code",
   "execution_count": 53,
   "id": "0485ffaa",
   "metadata": {},
   "outputs": [
    {
     "data": {
      "text/plain": [
       "2-element Vector{Int64}:\n",
       "   4294967326\n",
       " 128849018909"
      ]
     },
     "execution_count": 53,
     "metadata": {},
     "output_type": "execute_result"
    }
   ],
   "source": [
    "rand(a1,2) #choose random (2)element from a1  "
   ]
  },
  {
   "cell_type": "code",
   "execution_count": 57,
   "id": "054d28ad",
   "metadata": {},
   "outputs": [
    {
     "data": {
      "text/plain": [
       "(2, 3)"
      ]
     },
     "execution_count": 57,
     "metadata": {},
     "output_type": "execute_result"
    }
   ],
   "source": [
    "size(a5)"
   ]
  },
  {
   "cell_type": "code",
   "execution_count": 58,
   "id": "61f048df",
   "metadata": {},
   "outputs": [
    {
     "data": {
      "text/plain": [
       "3×2 Matrix{Int64}:\n",
       " 1   10\n",
       " 0    3\n",
       " 2  100"
      ]
     },
     "execution_count": 58,
     "metadata": {},
     "output_type": "execute_result"
    }
   ],
   "source": [
    "reshape(a5,(3,2))"
   ]
  },
  {
   "cell_type": "markdown",
   "id": "463e225b",
   "metadata": {},
   "source": [
    "# Set"
   ]
  },
  {
   "cell_type": "code",
   "execution_count": 84,
   "id": "2c2618c6",
   "metadata": {},
   "outputs": [
    {
     "name": "stdout",
     "output_type": "stream",
     "text": [
      "Set([5, 2, 8, 1])Set([7, 2, 11, 1])"
     ]
    }
   ],
   "source": [
    "a = Set([1,2,5,8])\n",
    "b = Set([1,2,7,11])\n",
    "print(a)\n",
    "print(b)"
   ]
  },
  {
   "cell_type": "code",
   "execution_count": 88,
   "id": "6eee4689",
   "metadata": {},
   "outputs": [
    {
     "name": "stdout",
     "output_type": "stream",
     "text": [
      "Set([2, 1])Set([5, 7, 2, 11, 8, 1])Set([5, 8])"
     ]
    }
   ],
   "source": [
    "print(intersect(a,b)) #kesismesi\n",
    "print(union(a,b))  #birlesmesi\n",
    "print(setdiff(a,b)) #a-nin b-den ferqli elementler\n",
    "print(setdiff(b,a)) #a-nin a-dan ferqli elementler"
   ]
  },
  {
   "cell_type": "markdown",
   "id": "6c65b986",
   "metadata": {},
   "source": [
    "# Loops"
   ]
  },
  {
   "cell_type": "code",
   "execution_count": 19,
   "id": "f2ee14c4",
   "metadata": {},
   "outputs": [
    {
     "name": "stdout",
     "output_type": "stream",
     "text": [
      "1\n",
      "3\n",
      "5\n",
      "7\n",
      "9\n"
     ]
    }
   ],
   "source": [
    "for i in 1:2:10 #= for i = 1 : 2 : 10\n",
    "\n",
    "        println(i)\n",
    "end"
   ]
  },
  {
   "cell_type": "code",
   "execution_count": 10,
   "id": "b088c6d1",
   "metadata": {},
   "outputs": [
    {
     "name": "stdout",
     "output_type": "stream",
     "text": [
      "17\n",
      "18\n",
      "19\n",
      "27\n",
      "28\n",
      "29\n",
      "37\n",
      "38\n",
      "39\n"
     ]
    }
   ],
   "source": [
    "for i=1 : 3 , j = 7 : 9\n",
    "    println(i,j)\n",
    "end"
   ]
  },
  {
   "cell_type": "code",
   "execution_count": 26,
   "id": "d3d102f3",
   "metadata": {},
   "outputs": [
    {
     "data": {
      "text/plain": [
       "3×3 Matrix{Float64}:\n",
       " 0.0  0.0  0.0\n",
       " 0.0  0.0  0.0\n",
       " 0.0  0.0  0.0"
      ]
     },
     "execution_count": 26,
     "metadata": {},
     "output_type": "execute_result"
    }
   ],
   "source": [
    "m,n = 3,3\n",
    "A =zeros(m,n)"
   ]
  },
  {
   "cell_type": "code",
   "execution_count": 31,
   "id": "928e0852",
   "metadata": {},
   "outputs": [
    {
     "data": {
      "text/plain": [
       "3×3 Matrix{Int64}:\n",
       " 2  3  4\n",
       " 3  4  5\n",
       " 4  5  6"
      ]
     },
     "execution_count": 31,
     "metadata": {},
     "output_type": "execute_result"
    }
   ],
   "source": [
    "[i + j  for i in 1:m, j in 1:n]\n",
    "\n",
    "#= \n",
    "for i in 1:m,j in 1:n\n",
    "    A[i,j]= i + j \n",
    "end\n",
    "A\n",
    "=#"
   ]
  },
  {
   "cell_type": "code",
   "execution_count": 11,
   "id": "b4a39d32",
   "metadata": {},
   "outputs": [
    {
     "name": "stdout",
     "output_type": "stream",
     "text": [
      "0\n",
      "1\n",
      "2\n",
      "3\n",
      "4\n"
     ]
    }
   ],
   "source": [
    "x=0\n",
    "while x < 5 \n",
    "    println(x)\n",
    "    global x+=1\n",
    "end"
   ]
  },
  {
   "cell_type": "code",
   "execution_count": 12,
   "id": "b1528055",
   "metadata": {},
   "outputs": [
    {
     "name": "stdout",
     "output_type": "stream",
     "text": [
      "0\n",
      "1\n",
      "2\n",
      "3\n",
      "4\n",
      "5\n",
      "6\n",
      "7\n"
     ]
    }
   ],
   "source": [
    "x=0\n",
    "while true\n",
    "    println(x)\n",
    "    if x == 7 \n",
    "        break\n",
    "    end\n",
    "    global x+=1\n",
    "end"
   ]
  },
  {
   "cell_type": "code",
   "execution_count": 13,
   "id": "31208165",
   "metadata": {},
   "outputs": [
    {
     "name": "stdout",
     "output_type": "stream",
     "text": [
      "1\n",
      "2\n",
      "3\n",
      "5\n"
     ]
    }
   ],
   "source": [
    "x = 0\n",
    "while x<5\n",
    "    global x+=1\n",
    "    if x == 4\n",
    "        continue\n",
    "    end\n",
    "    println(x)\n",
    "end"
   ]
  },
  {
   "cell_type": "code",
   "execution_count": 23,
   "id": "d7d19bf7",
   "metadata": {},
   "outputs": [
    {
     "name": "stdout",
     "output_type": "stream",
     "text": [
      "Salam bir nomreli pesi Ali Khalil\n",
      "Salam bir nomreli pesi Taleh\n",
      "Salam bir nomreli pesi Behram\n",
      "Salam bir nomreli pesi ƏLİ\n",
      "Salam bir nomreli pesi Nurlan Cefer\n"
     ]
    }
   ],
   "source": [
    "for pesi in Pesiler\n",
    "        println(\"Salam bir nomreli pesi $pesi\")\n",
    "end"
   ]
  },
  {
   "cell_type": "code",
   "execution_count": 24,
   "id": "93ff9f5c",
   "metadata": {},
   "outputs": [
    {
     "name": "stdout",
     "output_type": "stream",
     "text": [
      "Salam bir nomreli pesi Ali Khalil\n",
      "Salam bir nomreli pesi Taleh\n",
      "Salam bir nomreli pesi Behram\n",
      "Salam bir nomreli pesi ƏLİ\n",
      "Salam bir nomreli pesi Nurlan Cefer\n"
     ]
    }
   ],
   "source": [
    "Pesiler = [\"Ali Khalil\", \"Taleh\",\"Behram\",\"ƏLİ\",\"Nurlan Cefer\"]\n",
    "\n",
    "i = 1\n",
    "while i<= length(Pesiler)\n",
    "    pesi = Pesiler[i]\n",
    "    println(\"Salam bir nomreli pesi $pesi\")\n",
    "    i+=1\n",
    "end"
   ]
  },
  {
   "cell_type": "code",
   "execution_count": 14,
   "id": "d2c4fa42",
   "metadata": {},
   "outputs": [
    {
     "data": {
      "text/plain": [
       "5-element Vector{Int64}:\n",
       "  1\n",
       "  4\n",
       "  9\n",
       " 16\n",
       " 25"
      ]
     },
     "execution_count": 14,
     "metadata": {},
     "output_type": "execute_result"
    }
   ],
   "source": [
    "[i^2 for i in [1,2,3,4,5]]"
   ]
  },
  {
   "cell_type": "markdown",
   "id": "cffb31fa",
   "metadata": {},
   "source": [
    "# Errors"
   ]
  },
  {
   "cell_type": "code",
   "execution_count": 19,
   "id": "e916bd34",
   "metadata": {},
   "outputs": [
    {
     "name": "stdout",
     "output_type": "stream",
     "text": [
      "i: 1.0\n",
      "i: 3.0\n",
      "i: 4.0\n"
     ]
    },
    {
     "ename": "LoadError",
     "evalue": "You must write positive number",
     "output_type": "error",
     "traceback": [
      "You must write positive number",
      "",
      "Stacktrace:",
      " [1] error(s::String)",
      "   @ Base .\\error.jl:35",
      " [2] top-level scope",
      "   @ .\\In[19]:4"
     ]
    }
   ],
   "source": [
    "for i in [1,9,16,-1]\n",
    "    if i <0\n",
    "        #throw(DomainError())\n",
    "        error(\"You must write positive number\")\n",
    "    else\n",
    "        println(\"i: $(sqrt(i))\")\n",
    "    end\n",
    "end"
   ]
  },
  {
   "cell_type": "code",
   "execution_count": 27,
   "id": "d54e0e3a",
   "metadata": {},
   "outputs": [
    {
     "name": "stdout",
     "output_type": "stream",
     "text": [
      "You must write positive number\n"
     ]
    }
   ],
   "source": [
    "x = -9\n",
    "try\n",
    "    sqrt(x)\n",
    "catch \n",
    "    println(\"You must write positive number\")\n",
    "end"
   ]
  },
  {
   "cell_type": "markdown",
   "id": "1a49dce3",
   "metadata": {},
   "source": [
    "# Functions"
   ]
  },
  {
   "cell_type": "code",
   "execution_count": 29,
   "id": "f60cc60f",
   "metadata": {},
   "outputs": [
    {
     "data": {
      "text/plain": [
       "8"
      ]
     },
     "execution_count": 29,
     "metadata": {},
     "output_type": "execute_result"
    }
   ],
   "source": [
    "function f(x,y)\n",
    "    x+y\n",
    "end\n",
    "\n",
    "f(5,3)"
   ]
  },
  {
   "cell_type": "code",
   "execution_count": 30,
   "id": "495471f3",
   "metadata": {},
   "outputs": [
    {
     "data": {
      "text/plain": [
       "32"
      ]
     },
     "execution_count": 30,
     "metadata": {},
     "output_type": "execute_result"
    }
   ],
   "source": [
    "f(x,y) = x^y\n",
    "f(2,5)"
   ]
  },
  {
   "cell_type": "code",
   "execution_count": 33,
   "id": "b2c0f364",
   "metadata": {},
   "outputs": [
    {
     "data": {
      "text/plain": [
       "16"
      ]
     },
     "execution_count": 33,
     "metadata": {},
     "output_type": "execute_result"
    }
   ],
   "source": [
    "function g(x,y)\n",
    "    return x*y\n",
    "    x+y\n",
    "end\n",
    "\n",
    "g(4,4)"
   ]
  },
  {
   "cell_type": "code",
   "execution_count": 48,
   "id": "e9037af4",
   "metadata": {},
   "outputs": [
    {
     "data": {
      "text/plain": [
       "f (generic function with 1 method)"
      ]
     },
     "execution_count": 48,
     "metadata": {},
     "output_type": "execute_result"
    }
   ],
   "source": [
    "function f(g1,g2)\n",
    "    if (g1>g2)\n",
    "        return(\"$g1 bigger\")\n",
    "    elseif (g1<g2)\n",
    "        return(\"$g2 bigger\")\n",
    "    else\n",
    "        return(\"$g1 equal $g2\")\n",
    "    end\n",
    "end"
   ]
  },
  {
   "cell_type": "code",
   "execution_count": 51,
   "id": "9bd6c48f",
   "metadata": {},
   "outputs": [],
   "source": [
    "# f(4,4)\n",
    "# f(14,7)\n",
    "# f(4,44)"
   ]
  },
  {
   "cell_type": "code",
   "execution_count": 57,
   "id": "9497b237",
   "metadata": {},
   "outputs": [
    {
     "data": {
      "text/plain": [
       "5-element Vector{Int64}:\n",
       " -4\n",
       "  3\n",
       "  5\n",
       "  7\n",
       " 10"
      ]
     },
     "execution_count": 57,
     "metadata": {},
     "output_type": "execute_result"
    }
   ],
   "source": [
    "d = [3,5,7,-4,10]\n",
    "sort!(d)"
   ]
  },
  {
   "cell_type": "code",
   "execution_count": 58,
   "id": "d59e5673",
   "metadata": {},
   "outputs": [
    {
     "data": {
      "text/plain": [
       "5-element Vector{Int64}:\n",
       " -4\n",
       "  3\n",
       "  5\n",
       "  7\n",
       " 10"
      ]
     },
     "execution_count": 58,
     "metadata": {},
     "output_type": "execute_result"
    }
   ],
   "source": [
    "d"
   ]
  },
  {
   "cell_type": "markdown",
   "id": "fd0fff6e",
   "metadata": {},
   "source": [
    "after sort() d remain like previos  d = 3 5 7 -4 10"
   ]
  },
  {
   "cell_type": "markdown",
   "id": "45ccaf1d",
   "metadata": {},
   "source": [
    "after sort!() d change  d = -4 3 5 7 10"
   ]
  },
  {
   "cell_type": "markdown",
   "id": "12f1dba7",
   "metadata": {},
   "source": [
    "# Conditional"
   ]
  },
  {
   "cell_type": "code",
   "execution_count": null,
   "id": "761297e8",
   "metadata": {},
   "outputs": [],
   "source": [
    "if x>y\n",
    "    println(\"x greater than y\")\n",
    "elseif x<y\n",
    "    println(\"x less than y\")\n",
    "else\n",
    "    println(\"x = y\")\n",
    "end\n",
    "    "
   ]
  },
  {
   "cell_type": "code",
   "execution_count": 97,
   "id": "0b6baf25",
   "metadata": {},
   "outputs": [
    {
     "data": {
      "text/plain": [
       "\"x greater\""
      ]
     },
     "execution_count": 97,
     "metadata": {},
     "output_type": "execute_result"
    }
   ],
   "source": [
    "(x < y ? \"x less\" : \"x greater\")"
   ]
  },
  {
   "cell_type": "markdown",
   "id": "ceb140f9",
   "metadata": {},
   "source": [
    "# Class 02.03.2023"
   ]
  },
  {
   "cell_type": "code",
   "execution_count": 1,
   "id": "b9fcb904",
   "metadata": {},
   "outputs": [],
   "source": [
    "#homeworku nece gondereceyeik? --Mail\n",
    "#jupyterde yazilan kodu nece gondereceyik?\n",
    "#another class time\n",
    "#julia haqqinda cmd app jupyter\n"
   ]
  }
 ],
 "metadata": {
  "kernelspec": {
   "display_name": "Julia 1.8.5",
   "language": "julia",
   "name": "julia-1.8"
  },
  "language_info": {
   "file_extension": ".jl",
   "mimetype": "application/julia",
   "name": "julia",
   "version": "1.8.5"
  }
 },
 "nbformat": 4,
 "nbformat_minor": 5
}
