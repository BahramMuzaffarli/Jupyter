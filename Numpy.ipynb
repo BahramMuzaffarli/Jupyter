{
 "cells": [
  {
   "cell_type": "markdown",
   "id": "bf7225c8",
   "metadata": {},
   "source": [
    "# NumPy"
   ]
  },
  {
   "cell_type": "code",
   "execution_count": 3,
   "id": "302e1f15",
   "metadata": {},
   "outputs": [],
   "source": [
    "import numpy as np"
   ]
  },
  {
   "cell_type": "code",
   "execution_count": 4,
   "id": "3ece1538",
   "metadata": {},
   "outputs": [
    {
     "data": {
      "text/plain": [
       "numpy.ndarray"
      ]
     },
     "execution_count": 4,
     "metadata": {},
     "output_type": "execute_result"
    }
   ],
   "source": [
    "a = np.array([10,20,30],dtype = 'f')\n",
    "b = np.array([[1,2,3],[10,20,30],[100,200,300]])\n",
    "type(a)"
   ]
  },
  {
   "cell_type": "code",
   "execution_count": 5,
   "id": "5521d06c",
   "metadata": {},
   "outputs": [
    {
     "name": "stdout",
     "output_type": "stream",
     "text": [
      "[10. 20. 30.]\n",
      "**\n",
      "[[  1   2   3]\n",
      " [ 10  20  30]\n",
      " [100 200 300]]\n"
     ]
    }
   ],
   "source": [
    "print(a)\n",
    "print(\"**\")\n",
    "print(b)"
   ]
  },
  {
   "cell_type": "code",
   "execution_count": 6,
   "id": "9d0e8f3a",
   "metadata": {},
   "outputs": [
    {
     "name": "stdout",
     "output_type": "stream",
     "text": [
      "1\n",
      "2\n"
     ]
    }
   ],
   "source": [
    "print(a.ndim)\n",
    "print(b.ndim)"
   ]
  },
  {
   "cell_type": "code",
   "execution_count": 7,
   "id": "753b7578",
   "metadata": {},
   "outputs": [
    {
     "data": {
      "text/plain": [
       "array([10, 15, 20, 25, 30, 35, 40, 45, 50, 55, 60, 65, 70, 75, 80, 85, 90,\n",
       "       95])"
      ]
     },
     "execution_count": 7,
     "metadata": {},
     "output_type": "execute_result"
    }
   ],
   "source": [
    "A = np.arange(10,100,5)\n",
    "A"
   ]
  },
  {
   "cell_type": "code",
   "execution_count": 14,
   "id": "6e5d6ee9",
   "metadata": {},
   "outputs": [
    {
     "data": {
      "text/plain": [
       "array([30, 35, 40, 45, 50, 55, 60, 65, 70, 75, 80])"
      ]
     },
     "execution_count": 14,
     "metadata": {},
     "output_type": "execute_result"
    }
   ],
   "source": [
    "C = A[(A>25) & (A<85)]\n",
    "C\n"
   ]
  },
  {
   "cell_type": "code",
   "execution_count": 23,
   "id": "4448f00e",
   "metadata": {},
   "outputs": [
    {
     "data": {
      "text/plain": [
       "array([11, 16, 21, 26, 31, 36, 41, 46, 51, 56, 61, 66, 71, 76, 81, 86, 91,\n",
       "       96])"
      ]
     },
     "execution_count": 23,
     "metadata": {},
     "output_type": "execute_result"
    }
   ],
   "source": [
    "D = A + 1 \n",
    "D"
   ]
  },
  {
   "cell_type": "code",
   "execution_count": 15,
   "id": "357e3fae",
   "metadata": {},
   "outputs": [
    {
     "name": "stdout",
     "output_type": "stream",
     "text": [
      "[3 7 6 1 5 2 8 0 9 4]\n",
      "4\n"
     ]
    }
   ],
   "source": [
    "p = np.random.permutation(10)\n",
    "i = np.random.randint(1,7)\n",
    "print(p)\n",
    "print(i)"
   ]
  },
  {
   "cell_type": "code",
   "execution_count": 16,
   "id": "0518d7f0",
   "metadata": {},
   "outputs": [
    {
     "data": {
      "text/plain": [
       "array([0, 1, 2, 3, 4, 5, 6, 7, 8])"
      ]
     },
     "execution_count": 16,
     "metadata": {},
     "output_type": "execute_result"
    }
   ],
   "source": [
    "np.arange(9)"
   ]
  },
  {
   "cell_type": "code",
   "execution_count": 45,
   "id": "7cdb82d2",
   "metadata": {},
   "outputs": [
    {
     "data": {
      "text/plain": [
       "array([[0, 1, 2],\n",
       "       [3, 4, 5],\n",
       "       [6, 7, 8]])"
      ]
     },
     "execution_count": 45,
     "metadata": {},
     "output_type": "execute_result"
    }
   ],
   "source": [
    "np.arange(9).reshape(3,3)"
   ]
  },
  {
   "cell_type": "code",
   "execution_count": 46,
   "id": "48024b8b",
   "metadata": {
    "scrolled": true
   },
   "outputs": [
    {
     "name": "stdout",
     "output_type": "stream",
     "text": [
      "[[0. 1. 0. 0.]\n",
      " [1. 1. 1. 1.]\n",
      " [1. 0. 0. 0.]]\n",
      "-----------\n",
      "[[0. 1. 0.]\n",
      " [1. 1. 1.]\n",
      " [1. 0. 0.]\n",
      " [1. 0. 0.]]\n"
     ]
    }
   ],
   "source": [
    "a1 = np.round(np.random.rand(3,3))\n",
    "a2 = np.round(np.random.rand(3,1))\n",
    "a5 = np.round(np.random.rand(1,3))\n",
    "a3 = np.hstack((a1,a2))\n",
    "a4 = np.vstack((a1,a5))\n",
    "print(a3)\n",
    "print('-----------')\n",
    "print(a4)\n",
    "\n",
    "#np.sort(x)  or  x.sort()\n",
    "# x = x[::1] desc"
   ]
  },
  {
   "cell_type": "markdown",
   "id": "71051159",
   "metadata": {},
   "source": [
    "hstack / vstack   + sort"
   ]
  },
  {
   "cell_type": "markdown",
   "id": "54bf971f",
   "metadata": {},
   "source": [
    "# Examples (SGH)"
   ]
  },
  {
   "cell_type": "code",
   "execution_count": 18,
   "id": "68856fb6",
   "metadata": {},
   "outputs": [
    {
     "name": "stdout",
     "output_type": "stream",
     "text": [
      "[[1. 1. 1. 1. 1. 1. 1. 1. 1. 1.]\n",
      " [1. 0. 0. 0. 0. 0. 0. 0. 0. 1.]\n",
      " [1. 0. 0. 0. 0. 0. 0. 0. 0. 1.]\n",
      " [1. 0. 0. 0. 0. 0. 0. 0. 0. 1.]\n",
      " [1. 0. 0. 0. 0. 0. 0. 0. 0. 1.]\n",
      " [1. 0. 0. 0. 0. 0. 0. 0. 0. 1.]\n",
      " [1. 0. 0. 0. 0. 0. 0. 0. 0. 1.]\n",
      " [1. 0. 0. 0. 0. 0. 0. 0. 0. 1.]\n",
      " [1. 0. 0. 0. 0. 0. 0. 0. 0. 1.]\n",
      " [1. 1. 1. 1. 1. 1. 1. 1. 1. 1.]]\n"
     ]
    }
   ],
   "source": [
    "#Create a 10×10 matrix of zeros and then \"frame\" it with a border of ones.\n",
    "\n",
    "x = np.ones((10, 10))\n",
    "x[1:-1,1:-1]=0\n",
    "print(x)"
   ]
  },
  {
   "cell_type": "code",
   "execution_count": 19,
   "id": "a2d97d96",
   "metadata": {},
   "outputs": [
    {
     "name": "stdout",
     "output_type": "stream",
     "text": [
      "[[1 1 2]\n",
      " [2 3 1]\n",
      " [6 4 9]]\n",
      "Sum all 29\n",
      "Sum columns [ 9  8 12]\n",
      "Sum rows [ 4  6 19]\n"
     ]
    }
   ],
   "source": [
    "c = np.random.randint(10,size=(3, 3))\n",
    "print(c)\n",
    "print('Sum all',np.sum(c))\n",
    "print('Sum columns',np.sum(c,axis=0))\n",
    "print('Sum rows',np.sum(c,axis=1))"
   ]
  },
  {
   "cell_type": "code",
   "execution_count": 20,
   "id": "1a383b61",
   "metadata": {},
   "outputs": [
    {
     "name": "stdout",
     "output_type": "stream",
     "text": [
      "[[23 36  2 39 21]\n",
      " [47 16 35  1 26]\n",
      " [13 16  8 12  3]\n",
      " [47 23  7  9 22]\n",
      " [16 49 28 19 17]]\n",
      "MIN:  1\n",
      "MAX:  49\n"
     ]
    }
   ],
   "source": [
    "#MAX and MIN values\n",
    "\n",
    "array = np.random.randint(50, size=(5,5))  \n",
    "print(array)\n",
    "print('MIN: ',np.min(array))\n",
    "print('MAX: ',np.max(array))\n"
   ]
  },
  {
   "cell_type": "code",
   "execution_count": 21,
   "id": "d6afe383",
   "metadata": {},
   "outputs": [
    {
     "name": "stdout",
     "output_type": "stream",
     "text": [
      "[[55.  0.  0.  0.  0.]\n",
      " [ 0. 72.  0.  0.  0.]\n",
      " [ 0.  0. 64.  0.  0.]\n",
      " [ 0.  0.  0. 28.  0.]\n",
      " [ 0.  0.  0.  0. 83.]]\n"
     ]
    }
   ],
   "source": [
    "i = np.eye(5, 5)\n",
    "i = i * np.random.randint(1, 100, (5, 5))\n",
    "print(i)\n",
    " "
   ]
  },
  {
   "cell_type": "code",
   "execution_count": null,
   "id": "9a357582",
   "metadata": {},
   "outputs": [],
   "source": []
  },
  {
   "cell_type": "code",
   "execution_count": null,
   "id": "767d2a3f",
   "metadata": {},
   "outputs": [],
   "source": []
  }
 ],
 "metadata": {
  "kernelspec": {
   "display_name": "Python 3 (ipykernel)",
   "language": "python",
   "name": "python3"
  },
  "language_info": {
   "codemirror_mode": {
    "name": "ipython",
    "version": 3
   },
   "file_extension": ".py",
   "mimetype": "text/x-python",
   "name": "python",
   "nbconvert_exporter": "python",
   "pygments_lexer": "ipython3",
   "version": "3.9.12"
  }
 },
 "nbformat": 4,
 "nbformat_minor": 5
}
